{
 "cells": [
  {
   "cell_type": "markdown",
   "metadata": {
    "slideshow": {
     "slide_type": "slide"
    }
   },
   "source": [
    "# Test here dynamically what you saw in the document \n",
    "\n",
    "\n",
    "# This is a so-called Jupyter notebook. It let's you run code here dynamically:\n",
    "\n",
    "* Click in the cells below that contains the code and press Shift+Enter. \n",
    "* Read the descriptions below and feel the power of code yourself. "
   ]
  },
  {
   "cell_type": "markdown",
   "metadata": {
    "slideshow": {
     "slide_type": "subslide"
    }
   },
   "source": [
    "### Running Your First Cell\n",
    "\n",
    "Code cells, like the one below, can be filled with a series of Python commands. When the cell is run (`Ctrl+Enter` or `Shift+Enter`) the output is printed below.\n",
    "\n",
    "<div style=\"background-color:#cdefff; border-radius: 5px; padding: 10pt\"><strong>Task:</strong> Let's run our first Python script - Hello World! (This is a conventional first code for any programming language.). Once you see this working, try modifying the printed text, for example put your name in it. \n",
    "</div>"
   ]
  },
  {
   "cell_type": "code",
   "execution_count": null,
   "metadata": {
    "slideshow": {
     "slide_type": "fragment"
    }
   },
   "outputs": [],
   "source": [
    "print('Hello World!')"
   ]
  },
  {
   "cell_type": "markdown",
   "metadata": {
    "slideshow": {
     "slide_type": "subslide"
    }
   },
   "source": [
    "### Running the example code from the document\n",
    "\n",
    "Here we copy pasted that bit of python code from the \"Start with the why\" document. If you downloaded this Jupyter notebook together with all the other files from the Google Drive folder, then you should have the resource input Excel file 'example_data_0.xlsx right next to this notebook file, and it should easily find it.\n",
    "\n",
    "<div style=\"background-color:#cdefff; border-radius: 5px; padding: 10pt\"><strong>Task:</strong> Let's run our second Python script. Once you see this working, try modifying which Excel sheet we read in (they are numbered 0, 1, 2) buy modifying the hardcoded name in the pd.read_excel command.\n",
    "</div>"
   ]
  },
  {
   "cell_type": "code",
   "execution_count": null,
   "metadata": {
    "slideshow": {
     "slide_type": "subslide"
    }
   },
   "outputs": [],
   "source": [
    "import pandas as pd\t\t\n",
    "import matplotlib.pyplot as plt\n",
    "\n",
    "data = pd.read_excel ('example_data_0.xlsx')\n",
    "data.plot.bar(x='Well',  y='total Nuclei - Intensity Nuclei Mean - Mean per Well', rot=0) \n",
    "\n",
    "plt.show() \n",
    "\n"
   ]
  },
  {
   "cell_type": "markdown",
   "metadata": {
    "slideshow": {
     "slide_type": "subslide"
    }
   },
   "source": [
    "## Working over several Excel sheets\n",
    "\n",
    "This is the same Python code, but we added an extra line \"for file_number in range(0, 3):\". That extra line tells the computer to execute whatever is below it in the indented (shifted to the right) part of the code, 3 tiems (3 comes from the range(0,3) statement, which produces a range between 0 and 3, including 0 and excluding 3...that is 0, 1, 2).\n",
    "\n",
    "<div style=\"background-color:#cdefff; border-radius: 5px; padding: 10pt\"><strong>Task:</strong> Let's run our third Python script.\n",
    "</div>"
   ]
  },
  {
   "cell_type": "code",
   "execution_count": null,
   "metadata": {
    "slideshow": {
     "slide_type": "-"
    }
   },
   "outputs": [],
   "source": [
    "import pandas as pd\n",
    "import matplotlib.pyplot as plt\n",
    "\n",
    "for file_number in range(0, 3):\n",
    "    data = pd.read_excel (\"example_data_\" + str(file_number) + \".xlsx\")\n",
    "    data.plot.bar(x='Well', y='total Nuclei - Intensity Nuclei Mean - Mean per Well', rot=0)\n",
    "\n",
    "plt.show()\n"
   ]
  }
 ],
 "metadata": {
  "celltoolbar": "Slideshow",
  "kernelspec": {
   "display_name": "Python 3",
   "language": "python",
   "name": "python3"
  },
  "language_info": {
   "codemirror_mode": {
    "name": "ipython",
    "version": 3
   },
   "file_extension": ".py",
   "mimetype": "text/x-python",
   "name": "python",
   "nbconvert_exporter": "python",
   "pygments_lexer": "ipython3",
   "version": "3.7.4"
  }
 },
 "nbformat": 4,
 "nbformat_minor": 2
}
